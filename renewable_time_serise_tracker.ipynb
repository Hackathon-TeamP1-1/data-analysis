{
 "cells": [
  {
   "cell_type": "code",
   "execution_count": 132,
   "metadata": {},
   "outputs": [],
   "source": [
    "import pandas as pd\n",
    "import numpy as np\n",
    "from sklearn.preprocessing import MinMaxScaler\n",
    "import matplotlib.pyplot as plt\n",
    "from math import sqrt\n",
    "import tensorflow as tf\n",
    "from tensorflow.keras.models import Sequential\n",
    "from tensorflow.keras.layers import LSTM, Dense, Dropout, BatchNormalization, Bidirectional\n",
    "from tensorflow.keras.callbacks import EarlyStopping, ReduceLROnPlateau\n",
    "from tensorflow.keras.optimizers import Adam\n",
    "from tensorflow.keras.losses import MeanSquaredError, Huber\n",
    "from sklearn.metrics import mean_squared_error\n",
    "from sklearn.metrics import mean_squared_error\n",
    "from sklearn.preprocessing import MinMaxScaler"
   ]
  },
  {
   "cell_type": "code",
   "execution_count": 133,
   "metadata": {},
   "outputs": [],
   "source": [
    "df = pd.read_csv(\"outputs/preprocessed_data/data_cleaned.csv\")"
   ]
  },
  {
   "cell_type": "code",
   "execution_count": 134,
   "metadata": {},
   "outputs": [],
   "source": [
    "df['DATE'] = pd.to_datetime(df[['YEAR', 'MO', 'DY']].rename(columns={'YEAR': 'year', 'MO': 'month', 'DY': 'day'}))\n",
    "df.set_index('DATE', inplace=True)"
   ]
  },
  {
   "cell_type": "code",
   "execution_count": null,
   "metadata": {},
   "outputs": [],
   "source": [
    "panel_area = 10\n",
    "efficiency = 0.20\n",
    "sun_hours = 5\n",
    "\n",
    "df[\"E_produced\"] = df[\"ALLSKY_SFC_SW_DWN\"] * panel_area * efficiency * sun_hours "
   ]
  },
  {
   "cell_type": "code",
   "execution_count": 136,
   "metadata": {},
   "outputs": [],
   "source": [
    "selected_features = [\"LAT\", \"LON\", \"ALLSKY_SFC_SW_DWN\", \"WS2M\", \"T2M\", \"RH2M\", \"PRECTOTCORR\", \"ALLSKY_KT\"]  \n",
    "target = [\"E_produced\"]\n",
    "\n",
    "scaler = MinMaxScaler()\n",
    "df[selected_features + target] = scaler.fit_transform(df[selected_features + target])"
   ]
  },
  {
   "cell_type": "code",
   "execution_count": 137,
   "metadata": {},
   "outputs": [],
   "source": [
    "def create_sequences(data, target, seq_length=15):\n",
    "    X, y = [], []\n",
    "    for i in range(len(data) - seq_length):\n",
    "        X.append(data[i:i+seq_length])\n",
    "        y.append(target[i+seq_length])\n",
    "    return np.array(X), np.array(y)\n",
    "\n",
    "X, y = create_sequences(df[selected_features].values, df[target].values, seq_length=15)"
   ]
  },
  {
   "cell_type": "code",
   "execution_count": 138,
   "metadata": {},
   "outputs": [],
   "source": [
    "train_size = int(0.7 * len(X))\n",
    "val_size = int(0.15 * len(X))\n",
    "test_size = len(X) - train_size - val_size\n",
    "\n",
    "X_train, y_train = X[:train_size], y[:train_size]\n",
    "X_val, y_val = X[train_size:train_size + val_size], y[train_size:train_size + val_size]\n",
    "X_test, y_test = X[-test_size:], y[-test_size:]"
   ]
  },
  {
   "cell_type": "code",
   "execution_count": 139,
   "metadata": {},
   "outputs": [
    {
     "name": "stderr",
     "output_type": "stream",
     "text": [
      "c:\\Users\\obada\\data-analysis\\renewable_env\\lib\\site-packages\\keras\\src\\layers\\rnn\\rnn.py:200: UserWarning: Do not pass an `input_shape`/`input_dim` argument to a layer. When using Sequential models, prefer using an `Input(shape)` object as the first layer in the model instead.\n",
      "  super().__init__(**kwargs)\n"
     ]
    }
   ],
   "source": [
    "model = Sequential([\n",
    "    Bidirectional(LSTM(64, return_sequences=True, input_shape=(X_train.shape[1], X_train.shape[2]))),\n",
    "    Dropout(0.3),\n",
    "    BatchNormalization(),\n",
    "    \n",
    "    Bidirectional(LSTM(64, return_sequences=False)),\n",
    "    Dropout(0.3),\n",
    "    BatchNormalization(),\n",
    "\n",
    "    Dense(32, activation=\"relu\"),\n",
    "    Dropout(0.2),\n",
    "    Dense(1)\n",
    "])"
   ]
  },
  {
   "cell_type": "code",
   "execution_count": 140,
   "metadata": {},
   "outputs": [],
   "source": [
    "callbacks = [\n",
    "    EarlyStopping(monitor='val_loss', patience=10, restore_best_weights=True),\n",
    "    ReduceLROnPlateau(monitor='val_loss', factor=0.5, patience=3, min_lr=1e-5, verbose=1)\n",
    "]"
   ]
  },
  {
   "cell_type": "code",
   "execution_count": null,
   "metadata": {},
   "outputs": [],
   "source": [
    "model.compile(\n",
    "    optimizer=tf.keras.optimizers.Adam(learning_rate=0.0001),\n",
    "    loss=\"mse\",\n",
    "    metrics=[\"mae\"],\n",
    ")"
   ]
  },
  {
   "cell_type": "code",
   "execution_count": 142,
   "metadata": {},
   "outputs": [
    {
     "name": "stdout",
     "output_type": "stream",
     "text": [
      "Epoch 1/50\n",
      "\u001b[1m1601/1601\u001b[0m \u001b[32m━━━━━━━━━━━━━━━━━━━━\u001b[0m\u001b[37m\u001b[0m \u001b[1m27s\u001b[0m 13ms/step - loss: 0.2735 - mae: 0.6023 - val_loss: 0.0081 - val_mae: 0.1000 - learning_rate: 1.0000e-04\n",
      "Epoch 2/50\n",
      "\u001b[1m1601/1601\u001b[0m \u001b[32m━━━━━━━━━━━━━━━━━━━━\u001b[0m\u001b[37m\u001b[0m \u001b[1m16s\u001b[0m 10ms/step - loss: 0.0648 - mae: 0.2814 - val_loss: 0.0085 - val_mae: 0.1139 - learning_rate: 1.0000e-04\n",
      "Epoch 3/50\n",
      "\u001b[1m1601/1601\u001b[0m \u001b[32m━━━━━━━━━━━━━━━━━━━━\u001b[0m\u001b[37m\u001b[0m \u001b[1m15s\u001b[0m 10ms/step - loss: 0.0303 - mae: 0.1921 - val_loss: 0.0177 - val_mae: 0.1777 - learning_rate: 1.0000e-04\n",
      "Epoch 4/50\n",
      "\u001b[1m1601/1601\u001b[0m \u001b[32m━━━━━━━━━━━━━━━━━━━━\u001b[0m\u001b[37m\u001b[0m \u001b[1m0s\u001b[0m 10ms/step - loss: 0.0174 - mae: 0.1456\n",
      "Epoch 4: ReduceLROnPlateau reducing learning rate to 4.999999873689376e-05.\n",
      "\u001b[1m1601/1601\u001b[0m \u001b[32m━━━━━━━━━━━━━━━━━━━━\u001b[0m\u001b[37m\u001b[0m \u001b[1m17s\u001b[0m 11ms/step - loss: 0.0174 - mae: 0.1456 - val_loss: 0.0131 - val_mae: 0.1517 - learning_rate: 1.0000e-04\n",
      "Epoch 5/50\n",
      "\u001b[1m1601/1601\u001b[0m \u001b[32m━━━━━━━━━━━━━━━━━━━━\u001b[0m\u001b[37m\u001b[0m \u001b[1m16s\u001b[0m 10ms/step - loss: 0.0113 - mae: 0.1171 - val_loss: 0.0133 - val_mae: 0.1518 - learning_rate: 5.0000e-05\n",
      "Epoch 6/50\n",
      "\u001b[1m1601/1601\u001b[0m \u001b[32m━━━━━━━━━━━━━━━━━━━━\u001b[0m\u001b[37m\u001b[0m \u001b[1m16s\u001b[0m 10ms/step - loss: 0.0092 - mae: 0.1054 - val_loss: 0.0110 - val_mae: 0.1353 - learning_rate: 5.0000e-05\n",
      "Epoch 7/50\n",
      "\u001b[1m1601/1601\u001b[0m \u001b[32m━━━━━━━━━━━━━━━━━━━━\u001b[0m\u001b[37m\u001b[0m \u001b[1m15s\u001b[0m 10ms/step - loss: 0.0078 - mae: 0.0962 - val_loss: 0.0079 - val_mae: 0.1133 - learning_rate: 5.0000e-05\n",
      "Epoch 8/50\n",
      "\u001b[1m1601/1601\u001b[0m \u001b[32m━━━━━━━━━━━━━━━━━━━━\u001b[0m\u001b[37m\u001b[0m \u001b[1m16s\u001b[0m 10ms/step - loss: 0.0063 - mae: 0.0865 - val_loss: 0.0098 - val_mae: 0.1237 - learning_rate: 5.0000e-05\n",
      "Epoch 9/50\n",
      "\u001b[1m1601/1601\u001b[0m \u001b[32m━━━━━━━━━━━━━━━━━━━━\u001b[0m\u001b[37m\u001b[0m \u001b[1m16s\u001b[0m 10ms/step - loss: 0.0055 - mae: 0.0813 - val_loss: 0.0052 - val_mae: 0.0905 - learning_rate: 5.0000e-05\n",
      "Epoch 10/50\n",
      "\u001b[1m1601/1601\u001b[0m \u001b[32m━━━━━━━━━━━━━━━━━━━━\u001b[0m\u001b[37m\u001b[0m \u001b[1m17s\u001b[0m 10ms/step - loss: 0.0049 - mae: 0.0766 - val_loss: 0.0043 - val_mae: 0.0812 - learning_rate: 5.0000e-05\n",
      "Epoch 11/50\n",
      "\u001b[1m1601/1601\u001b[0m \u001b[32m━━━━━━━━━━━━━━━━━━━━\u001b[0m\u001b[37m\u001b[0m \u001b[1m16s\u001b[0m 10ms/step - loss: 0.0044 - mae: 0.0716 - val_loss: 0.0038 - val_mae: 0.0768 - learning_rate: 5.0000e-05\n",
      "Epoch 12/50\n",
      "\u001b[1m1601/1601\u001b[0m \u001b[32m━━━━━━━━━━━━━━━━━━━━\u001b[0m\u001b[37m\u001b[0m \u001b[1m16s\u001b[0m 10ms/step - loss: 0.0039 - mae: 0.0681 - val_loss: 0.0026 - val_mae: 0.0601 - learning_rate: 5.0000e-05\n",
      "Epoch 13/50\n",
      "\u001b[1m1601/1601\u001b[0m \u001b[32m━━━━━━━━━━━━━━━━━━━━\u001b[0m\u001b[37m\u001b[0m \u001b[1m16s\u001b[0m 10ms/step - loss: 0.0035 - mae: 0.0646 - val_loss: 0.0020 - val_mae: 0.0490 - learning_rate: 5.0000e-05\n",
      "Epoch 14/50\n",
      "\u001b[1m1601/1601\u001b[0m \u001b[32m━━━━━━━━━━━━━━━━━━━━\u001b[0m\u001b[37m\u001b[0m \u001b[1m16s\u001b[0m 10ms/step - loss: 0.0032 - mae: 0.0615 - val_loss: 0.0018 - val_mae: 0.0450 - learning_rate: 5.0000e-05\n",
      "Epoch 15/50\n",
      "\u001b[1m1601/1601\u001b[0m \u001b[32m━━━━━━━━━━━━━━━━━━━━\u001b[0m\u001b[37m\u001b[0m \u001b[1m18s\u001b[0m 11ms/step - loss: 0.0029 - mae: 0.0585 - val_loss: 0.0015 - val_mae: 0.0372 - learning_rate: 5.0000e-05\n",
      "Epoch 16/50\n",
      "\u001b[1m1601/1601\u001b[0m \u001b[32m━━━━━━━━━━━━━━━━━━━━\u001b[0m\u001b[37m\u001b[0m \u001b[1m17s\u001b[0m 10ms/step - loss: 0.0027 - mae: 0.0557 - val_loss: 0.0015 - val_mae: 0.0323 - learning_rate: 5.0000e-05\n",
      "Epoch 17/50\n",
      "\u001b[1m1601/1601\u001b[0m \u001b[32m━━━━━━━━━━━━━━━━━━━━\u001b[0m\u001b[37m\u001b[0m \u001b[1m16s\u001b[0m 10ms/step - loss: 0.0026 - mae: 0.0545 - val_loss: 0.0017 - val_mae: 0.0399 - learning_rate: 5.0000e-05\n",
      "Epoch 18/50\n",
      "\u001b[1m1600/1601\u001b[0m \u001b[32m━━━━━━━━━━━━━━━━━━━\u001b[0m\u001b[37m━\u001b[0m \u001b[1m0s\u001b[0m 9ms/step - loss: 0.0023 - mae: 0.0515\n",
      "Epoch 18: ReduceLROnPlateau reducing learning rate to 2.499999936844688e-05.\n",
      "\u001b[1m1601/1601\u001b[0m \u001b[32m━━━━━━━━━━━━━━━━━━━━\u001b[0m\u001b[37m\u001b[0m \u001b[1m16s\u001b[0m 10ms/step - loss: 0.0023 - mae: 0.0515 - val_loss: 0.0016 - val_mae: 0.0352 - learning_rate: 5.0000e-05\n",
      "Epoch 19/50\n",
      "\u001b[1m1601/1601\u001b[0m \u001b[32m━━━━━━━━━━━━━━━━━━━━\u001b[0m\u001b[37m\u001b[0m \u001b[1m16s\u001b[0m 10ms/step - loss: 0.0022 - mae: 0.0503 - val_loss: 0.0014 - val_mae: 0.0354 - learning_rate: 2.5000e-05\n",
      "Epoch 20/50\n",
      "\u001b[1m1601/1601\u001b[0m \u001b[32m━━━━━━━━━━━━━━━━━━━━\u001b[0m\u001b[37m\u001b[0m \u001b[1m16s\u001b[0m 10ms/step - loss: 0.0022 - mae: 0.0495 - val_loss: 0.0012 - val_mae: 0.0306 - learning_rate: 2.5000e-05\n",
      "Epoch 21/50\n",
      "\u001b[1m1601/1601\u001b[0m \u001b[32m━━━━━━━━━━━━━━━━━━━━\u001b[0m\u001b[37m\u001b[0m \u001b[1m16s\u001b[0m 10ms/step - loss: 0.0021 - mae: 0.0490 - val_loss: 0.0012 - val_mae: 0.0294 - learning_rate: 2.5000e-05\n",
      "Epoch 22/50\n",
      "\u001b[1m1601/1601\u001b[0m \u001b[32m━━━━━━━━━━━━━━━━━━━━\u001b[0m\u001b[37m\u001b[0m \u001b[1m16s\u001b[0m 10ms/step - loss: 0.0020 - mae: 0.0475 - val_loss: 0.0013 - val_mae: 0.0323 - learning_rate: 2.5000e-05\n",
      "Epoch 23/50\n",
      "\u001b[1m1599/1601\u001b[0m \u001b[32m━━━━━━━━━━━━━━━━━━━\u001b[0m\u001b[37m━\u001b[0m \u001b[1m0s\u001b[0m 9ms/step - loss: 0.0020 - mae: 0.0475\n",
      "Epoch 23: ReduceLROnPlateau reducing learning rate to 1.249999968422344e-05.\n",
      "\u001b[1m1601/1601\u001b[0m \u001b[32m━━━━━━━━━━━━━━━━━━━━\u001b[0m\u001b[37m\u001b[0m \u001b[1m16s\u001b[0m 10ms/step - loss: 0.0020 - mae: 0.0475 - val_loss: 0.0012 - val_mae: 0.0304 - learning_rate: 2.5000e-05\n",
      "Epoch 24/50\n",
      "\u001b[1m1601/1601\u001b[0m \u001b[32m━━━━━━━━━━━━━━━━━━━━\u001b[0m\u001b[37m\u001b[0m \u001b[1m16s\u001b[0m 10ms/step - loss: 0.0020 - mae: 0.0475 - val_loss: 0.0012 - val_mae: 0.0297 - learning_rate: 1.2500e-05\n",
      "Epoch 25/50\n",
      "\u001b[1m1601/1601\u001b[0m \u001b[32m━━━━━━━━━━━━━━━━━━━━\u001b[0m\u001b[37m\u001b[0m \u001b[1m16s\u001b[0m 10ms/step - loss: 0.0019 - mae: 0.0467 - val_loss: 0.0012 - val_mae: 0.0300 - learning_rate: 1.2500e-05\n",
      "Epoch 26/50\n",
      "\u001b[1m1596/1601\u001b[0m \u001b[32m━━━━━━━━━━━━━━━━━━━\u001b[0m\u001b[37m━\u001b[0m \u001b[1m0s\u001b[0m 9ms/step - loss: 0.0019 - mae: 0.0463\n",
      "Epoch 26: ReduceLROnPlateau reducing learning rate to 1e-05.\n",
      "\u001b[1m1601/1601\u001b[0m \u001b[32m━━━━━━━━━━━━━━━━━━━━\u001b[0m\u001b[37m\u001b[0m \u001b[1m16s\u001b[0m 10ms/step - loss: 0.0019 - mae: 0.0463 - val_loss: 0.0011 - val_mae: 0.0283 - learning_rate: 1.2500e-05\n",
      "Epoch 27/50\n",
      "\u001b[1m1601/1601\u001b[0m \u001b[32m━━━━━━━━━━━━━━━━━━━━\u001b[0m\u001b[37m\u001b[0m \u001b[1m16s\u001b[0m 10ms/step - loss: 0.0019 - mae: 0.0459 - val_loss: 0.0011 - val_mae: 0.0274 - learning_rate: 1.0000e-05\n",
      "Epoch 28/50\n",
      "\u001b[1m1601/1601\u001b[0m \u001b[32m━━━━━━━━━━━━━━━━━━━━\u001b[0m\u001b[37m\u001b[0m \u001b[1m20s\u001b[0m 13ms/step - loss: 0.0018 - mae: 0.0455 - val_loss: 0.0011 - val_mae: 0.0272 - learning_rate: 1.0000e-05\n",
      "Epoch 29/50\n",
      "\u001b[1m1601/1601\u001b[0m \u001b[32m━━━━━━━━━━━━━━━━━━━━\u001b[0m\u001b[37m\u001b[0m \u001b[1m17s\u001b[0m 11ms/step - loss: 0.0018 - mae: 0.0454 - val_loss: 0.0011 - val_mae: 0.0287 - learning_rate: 1.0000e-05\n",
      "Epoch 30/50\n",
      "\u001b[1m1601/1601\u001b[0m \u001b[32m━━━━━━━━━━━━━━━━━━━━\u001b[0m\u001b[37m\u001b[0m \u001b[1m16s\u001b[0m 10ms/step - loss: 0.0018 - mae: 0.0456 - val_loss: 0.0011 - val_mae: 0.0274 - learning_rate: 1.0000e-05\n",
      "Epoch 31/50\n",
      "\u001b[1m1601/1601\u001b[0m \u001b[32m━━━━━━━━━━━━━━━━━━━━\u001b[0m\u001b[37m\u001b[0m \u001b[1m16s\u001b[0m 10ms/step - loss: 0.0018 - mae: 0.0450 - val_loss: 0.0011 - val_mae: 0.0279 - learning_rate: 1.0000e-05\n",
      "Epoch 32/50\n",
      "\u001b[1m1601/1601\u001b[0m \u001b[32m━━━━━━━━━━━━━━━━━━━━\u001b[0m\u001b[37m\u001b[0m \u001b[1m17s\u001b[0m 10ms/step - loss: 0.0018 - mae: 0.0443 - val_loss: 0.0011 - val_mae: 0.0263 - learning_rate: 1.0000e-05\n",
      "Epoch 33/50\n",
      "\u001b[1m1601/1601\u001b[0m \u001b[32m━━━━━━━━━━━━━━━━━━━━\u001b[0m\u001b[37m\u001b[0m \u001b[1m17s\u001b[0m 10ms/step - loss: 0.0018 - mae: 0.0443 - val_loss: 0.0011 - val_mae: 0.0273 - learning_rate: 1.0000e-05\n",
      "Epoch 34/50\n",
      "\u001b[1m1601/1601\u001b[0m \u001b[32m━━━━━━━━━━━━━━━━━━━━\u001b[0m\u001b[37m\u001b[0m \u001b[1m16s\u001b[0m 10ms/step - loss: 0.0018 - mae: 0.0451 - val_loss: 0.0011 - val_mae: 0.0307 - learning_rate: 1.0000e-05\n",
      "Epoch 35/50\n",
      "\u001b[1m1601/1601\u001b[0m \u001b[32m━━━━━━━━━━━━━━━━━━━━\u001b[0m\u001b[37m\u001b[0m \u001b[1m16s\u001b[0m 10ms/step - loss: 0.0018 - mae: 0.0447 - val_loss: 0.0011 - val_mae: 0.0262 - learning_rate: 1.0000e-05\n",
      "Epoch 36/50\n",
      "\u001b[1m1601/1601\u001b[0m \u001b[32m━━━━━━━━━━━━━━━━━━━━\u001b[0m\u001b[37m\u001b[0m \u001b[1m16s\u001b[0m 10ms/step - loss: 0.0018 - mae: 0.0442 - val_loss: 0.0011 - val_mae: 0.0285 - learning_rate: 1.0000e-05\n",
      "Epoch 37/50\n",
      "\u001b[1m1601/1601\u001b[0m \u001b[32m━━━━━━━━━━━━━━━━━━━━\u001b[0m\u001b[37m\u001b[0m \u001b[1m16s\u001b[0m 10ms/step - loss: 0.0017 - mae: 0.0438 - val_loss: 0.0010 - val_mae: 0.0263 - learning_rate: 1.0000e-05\n",
      "Epoch 38/50\n",
      "\u001b[1m1601/1601\u001b[0m \u001b[32m━━━━━━━━━━━━━━━━━━━━\u001b[0m\u001b[37m\u001b[0m \u001b[1m19s\u001b[0m 12ms/step - loss: 0.0017 - mae: 0.0439 - val_loss: 0.0010 - val_mae: 0.0260 - learning_rate: 1.0000e-05\n",
      "Epoch 39/50\n",
      "\u001b[1m1601/1601\u001b[0m \u001b[32m━━━━━━━━━━━━━━━━━━━━\u001b[0m\u001b[37m\u001b[0m \u001b[1m17s\u001b[0m 11ms/step - loss: 0.0017 - mae: 0.0436 - val_loss: 0.0010 - val_mae: 0.0255 - learning_rate: 1.0000e-05\n",
      "Epoch 40/50\n",
      "\u001b[1m1601/1601\u001b[0m \u001b[32m━━━━━━━━━━━━━━━━━━━━\u001b[0m\u001b[37m\u001b[0m \u001b[1m17s\u001b[0m 11ms/step - loss: 0.0017 - mae: 0.0429 - val_loss: 0.0011 - val_mae: 0.0260 - learning_rate: 1.0000e-05\n",
      "Epoch 41/50\n",
      "\u001b[1m1601/1601\u001b[0m \u001b[32m━━━━━━━━━━━━━━━━━━━━\u001b[0m\u001b[37m\u001b[0m \u001b[1m17s\u001b[0m 11ms/step - loss: 0.0017 - mae: 0.0433 - val_loss: 0.0010 - val_mae: 0.0261 - learning_rate: 1.0000e-05\n",
      "Epoch 42/50\n",
      "\u001b[1m1601/1601\u001b[0m \u001b[32m━━━━━━━━━━━━━━━━━━━━\u001b[0m\u001b[37m\u001b[0m \u001b[1m17s\u001b[0m 11ms/step - loss: 0.0017 - mae: 0.0436 - val_loss: 0.0010 - val_mae: 0.0275 - learning_rate: 1.0000e-05\n",
      "Epoch 43/50\n",
      "\u001b[1m1601/1601\u001b[0m \u001b[32m━━━━━━━━━━━━━━━━━━━━\u001b[0m\u001b[37m\u001b[0m \u001b[1m18s\u001b[0m 11ms/step - loss: 0.0017 - mae: 0.0433 - val_loss: 0.0010 - val_mae: 0.0255 - learning_rate: 1.0000e-05\n",
      "Epoch 44/50\n",
      "\u001b[1m1601/1601\u001b[0m \u001b[32m━━━━━━━━━━━━━━━━━━━━\u001b[0m\u001b[37m\u001b[0m \u001b[1m17s\u001b[0m 11ms/step - loss: 0.0017 - mae: 0.0433 - val_loss: 0.0010 - val_mae: 0.0250 - learning_rate: 1.0000e-05\n",
      "Epoch 45/50\n",
      "\u001b[1m1601/1601\u001b[0m \u001b[32m━━━━━━━━━━━━━━━━━━━━\u001b[0m\u001b[37m\u001b[0m \u001b[1m17s\u001b[0m 11ms/step - loss: 0.0016 - mae: 0.0420 - val_loss: 0.0010 - val_mae: 0.0249 - learning_rate: 1.0000e-05\n",
      "Epoch 46/50\n",
      "\u001b[1m1601/1601\u001b[0m \u001b[32m━━━━━━━━━━━━━━━━━━━━\u001b[0m\u001b[37m\u001b[0m \u001b[1m17s\u001b[0m 11ms/step - loss: 0.0017 - mae: 0.0427 - val_loss: 0.0010 - val_mae: 0.0248 - learning_rate: 1.0000e-05\n",
      "Epoch 47/50\n",
      "\u001b[1m1601/1601\u001b[0m \u001b[32m━━━━━━━━━━━━━━━━━━━━\u001b[0m\u001b[37m\u001b[0m \u001b[1m18s\u001b[0m 11ms/step - loss: 0.0016 - mae: 0.0427 - val_loss: 0.0010 - val_mae: 0.0249 - learning_rate: 1.0000e-05\n",
      "Epoch 48/50\n",
      "\u001b[1m1601/1601\u001b[0m \u001b[32m━━━━━━━━━━━━━━━━━━━━\u001b[0m\u001b[37m\u001b[0m \u001b[1m17s\u001b[0m 11ms/step - loss: 0.0016 - mae: 0.0427 - val_loss: 0.0010 - val_mae: 0.0242 - learning_rate: 1.0000e-05\n",
      "Epoch 49/50\n",
      "\u001b[1m1601/1601\u001b[0m \u001b[32m━━━━━━━━━━━━━━━━━━━━\u001b[0m\u001b[37m\u001b[0m \u001b[1m17s\u001b[0m 11ms/step - loss: 0.0017 - mae: 0.0429 - val_loss: 0.0010 - val_mae: 0.0277 - learning_rate: 1.0000e-05\n",
      "Epoch 50/50\n",
      "\u001b[1m1601/1601\u001b[0m \u001b[32m━━━━━━━━━━━━━━━━━━━━\u001b[0m\u001b[37m\u001b[0m \u001b[1m17s\u001b[0m 11ms/step - loss: 0.0016 - mae: 0.0420 - val_loss: 0.0010 - val_mae: 0.0245 - learning_rate: 1.0000e-05\n"
     ]
    }
   ],
   "source": [
    "history = model.fit(\n",
    "    X_train, y_train,\n",
    "    epochs=50,\n",
    "    batch_size=16,\n",
    "    validation_data=(X_val, y_val),\n",
    "    callbacks=callbacks,\n",
    "    verbose=1\n",
    ")"
   ]
  },
  {
   "cell_type": "code",
   "execution_count": null,
   "metadata": {},
   "outputs": [
    {
     "name": "stdout",
     "output_type": "stream",
     "text": [
      "172/172 - 1s - 4ms/step - loss: 0.0013 - mae: 0.0459\n"
     ]
    },
    {
     "data": {
      "text/plain": [
       "(0.0013389860978350043, 0.04594174772500992)"
      ]
     },
     "execution_count": 143,
     "metadata": {},
     "output_type": "execute_result"
    }
   ],
   "source": [
    "# test_loss = model.evaluate(X_test, y_test)\n",
    "# test_loss\n",
    "yy, xx = model.evaluate(X_test, y_test, verbose=2)\n",
    "yy, xx"
   ]
  },
  {
   "cell_type": "code",
   "execution_count": 144,
   "metadata": {},
   "outputs": [
    {
     "data": {
      "image/png": "[encoded data removed]",
      "text/plain": [
       "<Figure size 640x480 with 1 Axes>"
      ]
     },
     "metadata": {},
     "output_type": "display_data"
    }
   ],
   "source": [
    "import matplotlib.pyplot as plt\n",
    "\n",
    "plt.plot(history.history[\"loss\"], label=\"Training Loss\")\n",
    "plt.plot(history.history[\"val_loss\"], label=\"Validation Loss\")\n",
    "plt.xlabel(\"Epoch\")\n",
    "plt.ylabel(\"Loss\")\n",
    "plt.legend()\n",
    "plt.show()\n"
   ]
  },
  {
   "cell_type": "code",
   "execution_count": 145,
   "metadata": {},
   "outputs": [
    {
     "ename": "KeyError",
     "evalue": "'val_accuracy'",
     "output_type": "error",
     "traceback": [
      "\u001b[1;31m---------------------------------------------------------------------------\u001b[0m",
      "\u001b[1;31mKeyError\u001b[0m                                  Traceback (most recent call last)",
      "Cell \u001b[1;32mIn[145], line 4\u001b[0m\n\u001b[0;32m      2\u001b[0m \u001b[38;5;66;03m# accuracy\u001b[39;00m\n\u001b[0;32m      3\u001b[0m plt\u001b[38;5;241m.\u001b[39mplot(history\u001b[38;5;241m.\u001b[39mhistory[\u001b[38;5;124m'\u001b[39m\u001b[38;5;124mlearning_rate\u001b[39m\u001b[38;5;124m'\u001b[39m], label\u001b[38;5;241m=\u001b[39m\u001b[38;5;124m\"\u001b[39m\u001b[38;5;124mLearning Rate\u001b[39m\u001b[38;5;124m\"\u001b[39m)\n\u001b[1;32m----> 4\u001b[0m plt\u001b[38;5;241m.\u001b[39mplot(\u001b[43mhistory\u001b[49m\u001b[38;5;241;43m.\u001b[39;49m\u001b[43mhistory\u001b[49m\u001b[43m[\u001b[49m\u001b[38;5;124;43m'\u001b[39;49m\u001b[38;5;124;43mval_accuracy\u001b[39;49m\u001b[38;5;124;43m'\u001b[39;49m\u001b[43m]\u001b[49m, label\u001b[38;5;241m=\u001b[39m\u001b[38;5;124m\"\u001b[39m\u001b[38;5;124mValidation Accuracy\u001b[39m\u001b[38;5;124m\"\u001b[39m)\n\u001b[0;32m      5\u001b[0m plt\u001b[38;5;241m.\u001b[39mxlabel(\u001b[38;5;124m\"\u001b[39m\u001b[38;5;124mEpoch\u001b[39m\u001b[38;5;124m\"\u001b[39m)\n\u001b[0;32m      6\u001b[0m plt\u001b[38;5;241m.\u001b[39mylabel(\u001b[38;5;124m\"\u001b[39m\u001b[38;5;124mLoss\u001b[39m\u001b[38;5;124m\"\u001b[39m)\n",
      "\u001b[1;31mKeyError\u001b[0m: 'val_accuracy'"
     ]
    },
    {
     "data": {
      "image/png": "[encoded data removed]",
      "text/plain": [
       "<Figure size 640x480 with 1 Axes>"
      ]
     },
     "metadata": {},
     "output_type": "display_data"
    }
   ],
   "source": [
    "import matplotlib.pyplot as plt\n",
    "# accuracy\n",
    "plt.plot(history.history['learning_rate'], label=\"Learning Rate\")\n",
    "plt.plot(history.history['val_accuracy'], label=\"Validation Accuracy\")\n",
    "plt.xlabel(\"Epoch\")\n",
    "plt.ylabel(\"Loss\")\n",
    "plt.legend()\n",
    "plt.show()\n"
   ]
  },
  {
   "cell_type": "code",
   "execution_count": null,
   "metadata": {},
   "outputs": [
    {
     "name": "stderr",
     "output_type": "stream",
     "text": [
      "WARNING:absl:You are saving your model as an HDF5 file via `model.save()` or `keras.saving.save_model(model)`. This file format is considered legacy. We recommend using instead the native Keras format, e.g. `model.save('my_model.keras')` or `keras.saving.save_model(model, 'my_model.keras')`. \n"
     ]
    }
   ],
   "source": [
    "model.save(\"outputs/models/model.h5\")"
   ]
  },
  {
   "cell_type": "code",
   "execution_count": 147,
   "metadata": {},
   "outputs": [
    {
     "name": "stderr",
     "output_type": "stream",
     "text": [
      "C:\\Users\\obada\\AppData\\Local\\Programs\\Python\\Python313\\Scripts\\jupyter-nbconvert.EXE\\__main__.py:4: DeprecationWarning: Parsing dates involving a day of month without a year specified is ambiguious\n",
      "and fails to parse leap day. The default behavior will change in Python 3.15\n",
      "to either always raise an exception or to use a different default year (TBD).\n",
      "To avoid trouble, add a specific year to the input & format.\n",
      "See https://github.com/python/cpython/issues/70647.\n",
      "[NbConvertApp] Converting notebook renewable_time_serise_tracker.ipynb to script\n",
      "[NbConvertApp] Writing 3736 bytes to outputs\\scripts\\renewable_time_serise_tracker.py\n",
      "C:\\Users\\obada\\AppData\\Local\\Programs\\Python\\Python313\\Scripts\\jupyter-nbconvert.EXE\\__main__.py:4: DeprecationWarning: Parsing dates involving a day of month without a year specified is ambiguious\n",
      "and fails to parse leap day. The default behavior will change in Python 3.15\n",
      "to either always raise an exception or to use a different default year (TBD).\n",
      "To avoid trouble, add a specific year to the input & format.\n",
      "See https://github.com/python/cpython/issues/70647.\n",
      "[NbConvertApp] Converting notebook renewable_time_serise_tracker.ipynb to html\n",
      "[NbConvertApp] WARNING | Alternative text is missing on 2 image(s).\n",
      "[NbConvertApp] Writing 360275 bytes to outputs\\html\\renewable_time_serise_tracker.html\n"
     ]
    }
   ],
   "source": [
    "!jupyter nbconvert --to script \"renewable_time_serise_tracker.ipynb\" --output-dir=\"outputs/scripts\"\n",
    "!jupyter nbconvert --to html \"renewable_time_serise_tracker.ipynb\" --output-dir=\"outputs/html\""
   ]
  }
 ],
 "metadata": {
  "kernelspec": {
   "display_name": "renewable_env",
   "language": "python",
   "name": "python3"
  },
  "language_info": {
   "codemirror_mode": {
    "name": "ipython",
    "version": 3
   },
   "file_extension": ".py",
   "mimetype": "text/x-python",
   "name": "python",
   "nbconvert_exporter": "python",
   "pygments_lexer": "ipython3",
   "version": "3.10.0"
  }
 },
 "nbformat": 4,
 "nbformat_minor": 2
}
