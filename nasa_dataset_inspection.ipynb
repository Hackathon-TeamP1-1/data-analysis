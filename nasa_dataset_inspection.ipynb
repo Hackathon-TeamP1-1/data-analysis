{
 "cells": [
  {
   "cell_type": "code",
   "execution_count": 39,
   "metadata": {},
   "outputs": [],
   "source": [
    "import os\n",
    "import pandas as pd"
   ]
  },
  {
   "cell_type": "code",
   "execution_count": 40,
   "metadata": {},
   "outputs": [],
   "source": [
    "base_path = 'data/nasa'\n",
    "starting_year = 2020\n",
    "ending_year = 2025"
   ]
  },
  {
   "cell_type": "code",
   "execution_count": null,
   "metadata": {},
   "outputs": [],
   "source": [
    "all_subdirs = [\n",
    "    d for d in os.listdir(base_path) if os.path.isdir(os.path.join(base_path, d))\n",
    "]\n",
    "\n",
    "year_dirs = []\n",
    "for d in all_subdirs:\n",
    "    if d.isdigit():\n",
    "        year_int = int(d)\n",
    "        if starting_year <= year_int <= ending_year:\n",
    "            year_dirs.append(year_int)\n",
    "year_dirs.sort()"
   ]
  },
  {
   "cell_type": "code",
   "execution_count": null,
   "metadata": {},
   "outputs": [],
   "source": [
    "merged_dir = os.path.join(base_path, 'merged')\n",
    "os.makedirs(merged_dir, exist_ok=True)"
   ]
  },
  {
   "cell_type": "code",
   "execution_count": null,
   "metadata": {},
   "outputs": [
    {
     "name": "stdout",
     "output_type": "stream",
     "text": [
      "Variable (1) merged and saved to data/nasa\\merged\\POWER_Regional_Daily_Merged (1).csv\n",
      "Variable (2) merged and saved to data/nasa\\merged\\POWER_Regional_Daily_Merged (2).csv\n",
      "Variable (3) merged and saved to data/nasa\\merged\\POWER_Regional_Daily_Merged (3).csv\n",
      "Variable (4) merged and saved to data/nasa\\merged\\POWER_Regional_Daily_Merged (4).csv\n",
      "Variable (5) merged and saved to data/nasa\\merged\\POWER_Regional_Daily_Merged (5).csv\n",
      "Variable (6) merged and saved to data/nasa\\merged\\POWER_Regional_Daily_Merged (6).csv\n",
      "Variable (7) merged and saved to data/nasa\\merged\\POWER_Regional_Daily_Merged (7).csv\n",
      "Variable (8) merged and saved to data/nasa\\merged\\POWER_Regional_Daily_Merged (8).csv\n",
      "Variable (9) merged and saved to data/nasa\\merged\\POWER_Regional_Daily_Merged (9).csv\n",
      "Variable (10) merged and saved to data/nasa\\merged\\POWER_Regional_Daily_Merged (10).csv\n",
      "Variable (11) merged and saved to data/nasa\\merged\\POWER_Regional_Daily_Merged (11).csv\n",
      "Variable (12) merged and saved to data/nasa\\merged\\POWER_Regional_Daily_Merged (12).csv\n",
      "Variable (13) merged and saved to data/nasa\\merged\\POWER_Regional_Daily_Merged (13).csv\n",
      "Variable (14) merged and saved to data/nasa\\merged\\POWER_Regional_Daily_Merged (14).csv\n",
      "Variable (15) merged and saved to data/nasa\\merged\\POWER_Regional_Daily_Merged (15).csv\n",
      "Variable (16) merged and saved to data/nasa\\merged\\POWER_Regional_Daily_Merged (16).csv\n",
      "Variable (17) merged and saved to data/nasa\\merged\\POWER_Regional_Daily_Merged (17).csv\n",
      "Variable (18) merged and saved to data/nasa\\merged\\POWER_Regional_Daily_Merged (18).csv\n",
      "Variable (19) merged and saved to data/nasa\\merged\\POWER_Regional_Daily_Merged (19).csv\n",
      "Variable (20) merged and saved to data/nasa\\merged\\POWER_Regional_Daily_Merged (20).csv\n",
      "Variable (21) merged and saved to data/nasa\\merged\\POWER_Regional_Daily_Merged (21).csv\n",
      "Variable (22) merged and saved to data/nasa\\merged\\POWER_Regional_Daily_Merged (22).csv\n",
      "Variable (23) merged and saved to data/nasa\\merged\\POWER_Regional_Daily_Merged (23).csv\n",
      "Variable (24) merged and saved to data/nasa\\merged\\POWER_Regional_Daily_Merged (24).csv\n",
      "Variable (25) merged and saved to data/nasa\\merged\\POWER_Regional_Daily_Merged (25).csv\n",
      "Variable (26) merged and saved to data/nasa\\merged\\POWER_Regional_Daily_Merged (26).csv\n",
      "Variable (27) merged and saved to data/nasa\\merged\\POWER_Regional_Daily_Merged (27).csv\n",
      "Variable (28) merged and saved to data/nasa\\merged\\POWER_Regional_Daily_Merged (28).csv\n",
      "Variable (29) merged and saved to data/nasa\\merged\\POWER_Regional_Daily_Merged (29).csv\n",
      "Variable (30) merged and saved to data/nasa\\merged\\POWER_Regional_Daily_Merged (30).csv\n",
      "Variable (31) merged and saved to data/nasa\\merged\\POWER_Regional_Daily_Merged (31).csv\n",
      "Variable (32) merged and saved to data/nasa\\merged\\POWER_Regional_Daily_Merged (32).csv\n",
      "Variable (33) merged and saved to data/nasa\\merged\\POWER_Regional_Daily_Merged (33).csv\n",
      "Variable (34) merged and saved to data/nasa\\merged\\POWER_Regional_Daily_Merged (34).csv\n",
      "No files found for variable (35) in the given year range.\n"
     ]
    }
   ],
   "source": [
    "for var_num in range(1, 36):\n",
    "    dfs = []\n",
    "\n",
    "    for year in year_dirs:\n",
    "        filename = f\"POWER_Regional_Daily_{year}0101_{year}1231 ({var_num}).csv\"\n",
    "        file_path = os.path.join(base_path, str(year), filename)\n",
    "\n",
    "        if os.path.exists(file_path):\n",
    "            df = pd.read_csv(file_path, skiprows=9)\n",
    "            dfs.append(df)\n",
    "\n",
    "    if dfs:\n",
    "        merged_df = pd.concat(dfs, ignore_index=True)\n",
    "        merged_df.sort_values(by=\"LAT\", inplace=True)\n",
    "        merged_df.reset_index(drop=True, inplace=True)\n",
    "\n",
    "        out_filename = f\"POWER_Regional_Daily_Merged ({var_num}).csv\"\n",
    "        out_path = os.path.join(merged_dir, out_filename)\n",
    "        merged_df.to_csv(out_path, index=False)\n",
    "\n",
    "        print(f\"Variable ({var_num}) merged and saved to {out_path}\")\n",
    "    else:\n",
    "        print(f\"No files found for variable ({var_num}) in the given year range.\")"
   ]
  },
  {
   "cell_type": "code",
   "execution_count": null,
   "metadata": {},
   "outputs": [],
   "source": []
  }
 ],
 "metadata": {
  "kernelspec": {
   "display_name": "renewable_env",
   "language": "python",
   "name": "python3"
  },
  "language_info": {
   "codemirror_mode": {
    "name": "ipython",
    "version": 3
   },
   "file_extension": ".py",
   "mimetype": "text/x-python",
   "name": "python",
   "nbconvert_exporter": "python",
   "pygments_lexer": "ipython3",
   "version": "3.10.0"
  }
 },
 "nbformat": 4,
 "nbformat_minor": 2
}
